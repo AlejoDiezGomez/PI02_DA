{
 "cells": [
  {
   "cell_type": "code",
   "execution_count": 17,
   "metadata": {},
   "outputs": [
    {
     "name": "stderr",
     "output_type": "stream",
     "text": [
      "C:\\Users\\alejo\\AppData\\Local\\Temp\\ipykernel_10404\\3253535171.py:68: UserWarning: The provided table name 'DataFrameFinal' is not found exactly as such in the database after writing the table, possibly due to case sensitivity issues. Consider using lower case table names.\n",
      "  dataframe.to_sql(nombre_tabla, con=motor, index=False, if_exists='replace')\n"
     ]
    },
    {
     "data": {
      "text/plain": [
       "717"
      ]
     },
     "execution_count": 17,
     "metadata": {},
     "output_type": "execute_result"
    }
   ],
   "source": [
    "import pandas as pd\n",
    "import mysql.connector\n",
    "from sqlalchemy import create_engine\n",
    "\n",
    "# Configuración de la conexión a la base de datos\n",
    "usuario = 'root'\n",
    "contraseña = '1234'\n",
    "host = 'localhost'\n",
    "puerto = '3306'\n",
    "nombre_base_de_datos = 'HchosDB'\n",
    "ruta_archivo_csv = 'DataFrameFinal.csv'\n",
    "\n",
    "# Crear una conexión a la base de datos MySQL usando mysql-connector-python\n",
    "conexion = mysql.connector.connect(\n",
    "    host=host,\n",
    "    user=usuario,\n",
    "    password=contraseña,\n",
    "    port=puerto,\n",
    "    database=nombre_base_de_datos  # Agregar esta línea para seleccionar la base de datos\n",
    ")\n",
    "\n",
    "# Crear el cursor para ejecutar consultas SQL\n",
    "cursor = conexion.cursor()\n",
    "\n",
    "# Nombre de la tabla en la base de datos\n",
    "nombre_tabla = 'DataFrameFinal'\n",
    "\n",
    "# Eliminar la tabla si ya existe\n",
    "cursor.execute(f'DROP TABLE IF EXISTS {nombre_tabla}')\n",
    "\n",
    "# Cerrar el cursor y aplicar los cambios\n",
    "conexion.commit()\n",
    "cursor.close()\n",
    "conexion.close()\n",
    "\n",
    "# Crear una conexión a la base de datos recién creada usando sqlalchemy\n",
    "motor = create_engine(f'mysql+mysqlconnector://{usuario}:{contraseña}@{host}:{puerto}/{nombre_base_de_datos}')\n",
    "\n",
    "# Leer el archivo CSV en un DataFrame de pandas\n",
    "dataframe = pd.read_csv(ruta_archivo_csv)\n",
    "\n",
    "# Definir manualmente los tipos de datos para cada columna\n",
    "tipos_de_datos = {\n",
    "    'ID': 'object',\n",
    "    'N_VICTIMAS': 'int',\n",
    "    'FECHA_x': 'object',\n",
    "    'HH': 'object',\n",
    "    'LUGAR_DEL_HECHO': 'object',\n",
    "    'TIPO_DE_CALLE': 'object',\n",
    "    'Calle': 'object',\n",
    "    'Altura': 'object',\n",
    "    'Cruce': 'object',\n",
    "    'DirecciÃÂ³n Normalizada': 'object',\n",
    "    'COMUNA': 'int',\n",
    "    'pos x': 'object',\n",
    "    'pos y': 'object',\n",
    "    'VICTIMA_x': 'object',\n",
    "    'COMUNA-copia': 'object',\n",
    "    'EDAD-copia': 'object'\n",
    "    # ... (elimina duplicados y ajusta según sea necesario)\n",
    "}\n",
    "\n",
    "# Aplicar los tipos de datos definidos manualmente\n",
    "for columna, tipo_dato in tipos_de_datos.items():\n",
    "    dataframe[columna] = dataframe[columna].astype(tipo_dato)\n",
    "\n",
    "# Crear la tabla en la base de datos\n",
    "dataframe.to_sql(nombre_tabla, con=motor, index=False, if_exists='replace')\n"
   ]
  }
 ],
 "metadata": {
  "kernelspec": {
   "display_name": "Python 3",
   "language": "python",
   "name": "python3"
  },
  "language_info": {
   "codemirror_mode": {
    "name": "ipython",
    "version": 3
   },
   "file_extension": ".py",
   "mimetype": "text/x-python",
   "name": "python",
   "nbconvert_exporter": "python",
   "pygments_lexer": "ipython3",
   "version": "3.12.1"
  }
 },
 "nbformat": 4,
 "nbformat_minor": 2
}
